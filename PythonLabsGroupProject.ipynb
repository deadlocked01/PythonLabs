{
 "cells": [
  {
   "cell_type": "code",
   "execution_count": 1,
   "id": "9d45452d",
   "metadata": {},
   "outputs": [],
   "source": [
    "import numpy as np # linear algebra\n",
    "import pandas as pd # data processing, CSV file I/O (e.g. pd.read_csv)\n",
    "import seaborn as sns\n",
    "import matplotlib.pyplot as plt\n",
    "from sklearn import preprocessing\n",
    "from sklearn import metrics\n",
    "from sklearn.linear_model import LinearRegression\n",
    "from sklearn.model_selection import train_test_split\n",
    "from sklearn.model_selection import cross_val_score\n",
    "from sklearn.ensemble import RandomForestRegressor\n",
    "from sklearn.linear_model import Ridge\n",
    "from sklearn.model_selection import GridSearchCV, RandomizedSearchCV\n",
    "from sklearn.metrics import mean_absolute_error\n",
    "from sklearn.metrics import r2_score\n",
    "from sklearn.metrics import mean_squared_error"
   ]
  },
  {
   "cell_type": "code",
   "execution_count": 2,
   "id": "5522367c",
   "metadata": {},
   "outputs": [
    {
     "name": "stderr",
     "output_type": "stream",
     "text": [
      "C:\\Users\\aritr\\AppData\\Local\\Temp\\ipykernel_23472\\1055263696.py:1: FutureWarning: The error_bad_lines argument has been deprecated and will be removed in a future version. Use on_bad_lines in the future.\n",
      "\n",
      "\n",
      "  df = pd.read_csv('C:/Users/aritr/Downloads/books.csv', error_bad_lines=False)\n",
      "Skipping line 3350: expected 12 fields, saw 13\n",
      "Skipping line 4704: expected 12 fields, saw 13\n",
      "Skipping line 5879: expected 12 fields, saw 13\n",
      "Skipping line 8981: expected 12 fields, saw 13\n",
      "\n"
     ]
    },
    {
     "data": {
      "text/html": [
       "<div>\n",
       "<style scoped>\n",
       "    .dataframe tbody tr th:only-of-type {\n",
       "        vertical-align: middle;\n",
       "    }\n",
       "\n",
       "    .dataframe tbody tr th {\n",
       "        vertical-align: top;\n",
       "    }\n",
       "\n",
       "    .dataframe thead th {\n",
       "        text-align: right;\n",
       "    }\n",
       "</style>\n",
       "<table border=\"1\" class=\"dataframe\">\n",
       "  <thead>\n",
       "    <tr style=\"text-align: right;\">\n",
       "      <th></th>\n",
       "      <th>bookID</th>\n",
       "      <th>title</th>\n",
       "      <th>authors</th>\n",
       "      <th>average_rating</th>\n",
       "      <th>isbn</th>\n",
       "      <th>isbn13</th>\n",
       "      <th>language_code</th>\n",
       "      <th>num_pages</th>\n",
       "      <th>ratings_count</th>\n",
       "      <th>text_reviews_count</th>\n",
       "      <th>publication_date</th>\n",
       "      <th>publisher</th>\n",
       "    </tr>\n",
       "  </thead>\n",
       "  <tbody>\n",
       "    <tr>\n",
       "      <th>0</th>\n",
       "      <td>1</td>\n",
       "      <td>Harry Potter and the Half-Blood Prince (Harry ...</td>\n",
       "      <td>J.K. Rowling/Mary GrandPré</td>\n",
       "      <td>4.57</td>\n",
       "      <td>0439785960</td>\n",
       "      <td>9780439785969</td>\n",
       "      <td>eng</td>\n",
       "      <td>652</td>\n",
       "      <td>2095690</td>\n",
       "      <td>27591</td>\n",
       "      <td>9/16/2006</td>\n",
       "      <td>Scholastic Inc.</td>\n",
       "    </tr>\n",
       "    <tr>\n",
       "      <th>1</th>\n",
       "      <td>2</td>\n",
       "      <td>Harry Potter and the Order of the Phoenix (Har...</td>\n",
       "      <td>J.K. Rowling/Mary GrandPré</td>\n",
       "      <td>4.49</td>\n",
       "      <td>0439358078</td>\n",
       "      <td>9780439358071</td>\n",
       "      <td>eng</td>\n",
       "      <td>870</td>\n",
       "      <td>2153167</td>\n",
       "      <td>29221</td>\n",
       "      <td>9/1/2004</td>\n",
       "      <td>Scholastic Inc.</td>\n",
       "    </tr>\n",
       "    <tr>\n",
       "      <th>2</th>\n",
       "      <td>4</td>\n",
       "      <td>Harry Potter and the Chamber of Secrets (Harry...</td>\n",
       "      <td>J.K. Rowling</td>\n",
       "      <td>4.42</td>\n",
       "      <td>0439554896</td>\n",
       "      <td>9780439554893</td>\n",
       "      <td>eng</td>\n",
       "      <td>352</td>\n",
       "      <td>6333</td>\n",
       "      <td>244</td>\n",
       "      <td>11/1/2003</td>\n",
       "      <td>Scholastic</td>\n",
       "    </tr>\n",
       "    <tr>\n",
       "      <th>3</th>\n",
       "      <td>5</td>\n",
       "      <td>Harry Potter and the Prisoner of Azkaban (Harr...</td>\n",
       "      <td>J.K. Rowling/Mary GrandPré</td>\n",
       "      <td>4.56</td>\n",
       "      <td>043965548X</td>\n",
       "      <td>9780439655484</td>\n",
       "      <td>eng</td>\n",
       "      <td>435</td>\n",
       "      <td>2339585</td>\n",
       "      <td>36325</td>\n",
       "      <td>5/1/2004</td>\n",
       "      <td>Scholastic Inc.</td>\n",
       "    </tr>\n",
       "    <tr>\n",
       "      <th>4</th>\n",
       "      <td>8</td>\n",
       "      <td>Harry Potter Boxed Set  Books 1-5 (Harry Potte...</td>\n",
       "      <td>J.K. Rowling/Mary GrandPré</td>\n",
       "      <td>4.78</td>\n",
       "      <td>0439682584</td>\n",
       "      <td>9780439682589</td>\n",
       "      <td>eng</td>\n",
       "      <td>2690</td>\n",
       "      <td>41428</td>\n",
       "      <td>164</td>\n",
       "      <td>9/13/2004</td>\n",
       "      <td>Scholastic</td>\n",
       "    </tr>\n",
       "  </tbody>\n",
       "</table>\n",
       "</div>"
      ],
      "text/plain": [
       "   bookID                                              title  \\\n",
       "0       1  Harry Potter and the Half-Blood Prince (Harry ...   \n",
       "1       2  Harry Potter and the Order of the Phoenix (Har...   \n",
       "2       4  Harry Potter and the Chamber of Secrets (Harry...   \n",
       "3       5  Harry Potter and the Prisoner of Azkaban (Harr...   \n",
       "4       8  Harry Potter Boxed Set  Books 1-5 (Harry Potte...   \n",
       "\n",
       "                      authors  average_rating        isbn         isbn13  \\\n",
       "0  J.K. Rowling/Mary GrandPré            4.57  0439785960  9780439785969   \n",
       "1  J.K. Rowling/Mary GrandPré            4.49  0439358078  9780439358071   \n",
       "2                J.K. Rowling            4.42  0439554896  9780439554893   \n",
       "3  J.K. Rowling/Mary GrandPré            4.56  043965548X  9780439655484   \n",
       "4  J.K. Rowling/Mary GrandPré            4.78  0439682584  9780439682589   \n",
       "\n",
       "  language_code    num_pages  ratings_count  text_reviews_count  \\\n",
       "0           eng          652        2095690               27591   \n",
       "1           eng          870        2153167               29221   \n",
       "2           eng          352           6333                 244   \n",
       "3           eng          435        2339585               36325   \n",
       "4           eng         2690          41428                 164   \n",
       "\n",
       "  publication_date        publisher  \n",
       "0        9/16/2006  Scholastic Inc.  \n",
       "1         9/1/2004  Scholastic Inc.  \n",
       "2        11/1/2003       Scholastic  \n",
       "3         5/1/2004  Scholastic Inc.  \n",
       "4        9/13/2004       Scholastic  "
      ]
     },
     "execution_count": 2,
     "metadata": {},
     "output_type": "execute_result"
    }
   ],
   "source": [
    "df = pd.read_csv('C:/Users/aritr/Downloads/books.csv', error_bad_lines=False)\n",
    "df.head()"
   ]
  },
  {
   "cell_type": "code",
   "execution_count": 3,
   "id": "7308181f",
   "metadata": {},
   "outputs": [
    {
     "data": {
      "text/plain": [
       "(11123, 12)"
      ]
     },
     "execution_count": 3,
     "metadata": {},
     "output_type": "execute_result"
    }
   ],
   "source": [
    "df.shape"
   ]
  },
  {
   "cell_type": "code",
   "execution_count": 4,
   "id": "3368ae6b",
   "metadata": {},
   "outputs": [
    {
     "name": "stdout",
     "output_type": "stream",
     "text": [
      "<class 'pandas.core.frame.DataFrame'>\n",
      "RangeIndex: 11123 entries, 0 to 11122\n",
      "Data columns (total 12 columns):\n",
      " #   Column              Non-Null Count  Dtype  \n",
      "---  ------              --------------  -----  \n",
      " 0   bookID              11123 non-null  int64  \n",
      " 1   title               11123 non-null  object \n",
      " 2   authors             11123 non-null  object \n",
      " 3   average_rating      11123 non-null  float64\n",
      " 4   isbn                11123 non-null  object \n",
      " 5   isbn13              11123 non-null  int64  \n",
      " 6   language_code       11123 non-null  object \n",
      " 7     num_pages         11123 non-null  int64  \n",
      " 8   ratings_count       11123 non-null  int64  \n",
      " 9   text_reviews_count  11123 non-null  int64  \n",
      " 10  publication_date    11123 non-null  object \n",
      " 11  publisher           11123 non-null  object \n",
      "dtypes: float64(1), int64(5), object(6)\n",
      "memory usage: 1.0+ MB\n"
     ]
    }
   ],
   "source": [
    "df.info()"
   ]
  },
  {
   "cell_type": "code",
   "execution_count": 5,
   "id": "b8abe9a5",
   "metadata": {},
   "outputs": [
    {
     "data": {
      "text/plain": [
       "array(['eng', 'en-US', 'fre', 'spa', 'en-GB', 'mul', 'grc', 'enm',\n",
       "       'en-CA', 'ger', 'jpn', 'ara', 'nl', 'zho', 'lat', 'por', 'srp',\n",
       "       'ita', 'rus', 'msa', 'glg', 'wel', 'swe', 'nor', 'tur', 'gla',\n",
       "       'ale'], dtype=object)"
      ]
     },
     "execution_count": 5,
     "metadata": {},
     "output_type": "execute_result"
    }
   ],
   "source": [
    "df.language_code.unique()"
   ]
  },
  {
   "cell_type": "code",
   "execution_count": null,
   "id": "b7952678",
   "metadata": {},
   "outputs": [],
   "source": []
  },
  {
   "cell_type": "code",
   "execution_count": 6,
   "id": "ececffc2",
   "metadata": {},
   "outputs": [
    {
     "data": {
      "text/html": [
       "<div>\n",
       "<style scoped>\n",
       "    .dataframe tbody tr th:only-of-type {\n",
       "        vertical-align: middle;\n",
       "    }\n",
       "\n",
       "    .dataframe tbody tr th {\n",
       "        vertical-align: top;\n",
       "    }\n",
       "\n",
       "    .dataframe thead th {\n",
       "        text-align: right;\n",
       "    }\n",
       "</style>\n",
       "<table border=\"1\" class=\"dataframe\">\n",
       "  <thead>\n",
       "    <tr style=\"text-align: right;\">\n",
       "      <th></th>\n",
       "      <th>bookID</th>\n",
       "      <th>average_rating</th>\n",
       "      <th>isbn13</th>\n",
       "      <th>num_pages</th>\n",
       "      <th>ratings_count</th>\n",
       "      <th>text_reviews_count</th>\n",
       "    </tr>\n",
       "  </thead>\n",
       "  <tbody>\n",
       "    <tr>\n",
       "      <th>count</th>\n",
       "      <td>11123.000000</td>\n",
       "      <td>11123.000000</td>\n",
       "      <td>1.112300e+04</td>\n",
       "      <td>11123.000000</td>\n",
       "      <td>1.112300e+04</td>\n",
       "      <td>11123.000000</td>\n",
       "    </tr>\n",
       "    <tr>\n",
       "      <th>mean</th>\n",
       "      <td>21310.856963</td>\n",
       "      <td>3.934075</td>\n",
       "      <td>9.759880e+12</td>\n",
       "      <td>336.405556</td>\n",
       "      <td>1.794285e+04</td>\n",
       "      <td>542.048099</td>\n",
       "    </tr>\n",
       "    <tr>\n",
       "      <th>std</th>\n",
       "      <td>13094.727252</td>\n",
       "      <td>0.350485</td>\n",
       "      <td>4.429758e+11</td>\n",
       "      <td>241.152626</td>\n",
       "      <td>1.124992e+05</td>\n",
       "      <td>2576.619589</td>\n",
       "    </tr>\n",
       "    <tr>\n",
       "      <th>min</th>\n",
       "      <td>1.000000</td>\n",
       "      <td>0.000000</td>\n",
       "      <td>8.987060e+09</td>\n",
       "      <td>0.000000</td>\n",
       "      <td>0.000000e+00</td>\n",
       "      <td>0.000000</td>\n",
       "    </tr>\n",
       "    <tr>\n",
       "      <th>25%</th>\n",
       "      <td>10277.500000</td>\n",
       "      <td>3.770000</td>\n",
       "      <td>9.780345e+12</td>\n",
       "      <td>192.000000</td>\n",
       "      <td>1.040000e+02</td>\n",
       "      <td>9.000000</td>\n",
       "    </tr>\n",
       "    <tr>\n",
       "      <th>50%</th>\n",
       "      <td>20287.000000</td>\n",
       "      <td>3.960000</td>\n",
       "      <td>9.780582e+12</td>\n",
       "      <td>299.000000</td>\n",
       "      <td>7.450000e+02</td>\n",
       "      <td>47.000000</td>\n",
       "    </tr>\n",
       "    <tr>\n",
       "      <th>75%</th>\n",
       "      <td>32104.500000</td>\n",
       "      <td>4.140000</td>\n",
       "      <td>9.780872e+12</td>\n",
       "      <td>416.000000</td>\n",
       "      <td>5.000500e+03</td>\n",
       "      <td>238.000000</td>\n",
       "    </tr>\n",
       "    <tr>\n",
       "      <th>max</th>\n",
       "      <td>45641.000000</td>\n",
       "      <td>5.000000</td>\n",
       "      <td>9.790008e+12</td>\n",
       "      <td>6576.000000</td>\n",
       "      <td>4.597666e+06</td>\n",
       "      <td>94265.000000</td>\n",
       "    </tr>\n",
       "  </tbody>\n",
       "</table>\n",
       "</div>"
      ],
      "text/plain": [
       "             bookID  average_rating        isbn13     num_pages  \\\n",
       "count  11123.000000    11123.000000  1.112300e+04  11123.000000   \n",
       "mean   21310.856963        3.934075  9.759880e+12    336.405556   \n",
       "std    13094.727252        0.350485  4.429758e+11    241.152626   \n",
       "min        1.000000        0.000000  8.987060e+09      0.000000   \n",
       "25%    10277.500000        3.770000  9.780345e+12    192.000000   \n",
       "50%    20287.000000        3.960000  9.780582e+12    299.000000   \n",
       "75%    32104.500000        4.140000  9.780872e+12    416.000000   \n",
       "max    45641.000000        5.000000  9.790008e+12   6576.000000   \n",
       "\n",
       "       ratings_count  text_reviews_count  \n",
       "count   1.112300e+04        11123.000000  \n",
       "mean    1.794285e+04          542.048099  \n",
       "std     1.124992e+05         2576.619589  \n",
       "min     0.000000e+00            0.000000  \n",
       "25%     1.040000e+02            9.000000  \n",
       "50%     7.450000e+02           47.000000  \n",
       "75%     5.000500e+03          238.000000  \n",
       "max     4.597666e+06        94265.000000  "
      ]
     },
     "execution_count": 6,
     "metadata": {},
     "output_type": "execute_result"
    }
   ],
   "source": [
    "df.describe()"
   ]
  },
  {
   "cell_type": "code",
   "execution_count": 7,
   "id": "a0758006",
   "metadata": {},
   "outputs": [
    {
     "data": {
      "text/plain": [
       "bookID                0\n",
       "title                 0\n",
       "authors               0\n",
       "average_rating        0\n",
       "isbn                  0\n",
       "isbn13                0\n",
       "language_code         0\n",
       "  num_pages           0\n",
       "ratings_count         0\n",
       "text_reviews_count    0\n",
       "publication_date      0\n",
       "publisher             0\n",
       "dtype: int64"
      ]
     },
     "execution_count": 7,
     "metadata": {},
     "output_type": "execute_result"
    }
   ],
   "source": [
    "df.isnull().sum()"
   ]
  },
  {
   "cell_type": "code",
   "execution_count": 8,
   "id": "64f0a382",
   "metadata": {},
   "outputs": [
    {
     "data": {
      "text/html": [
       "<div>\n",
       "<style scoped>\n",
       "    .dataframe tbody tr th:only-of-type {\n",
       "        vertical-align: middle;\n",
       "    }\n",
       "\n",
       "    .dataframe tbody tr th {\n",
       "        vertical-align: top;\n",
       "    }\n",
       "\n",
       "    .dataframe thead th {\n",
       "        text-align: right;\n",
       "    }\n",
       "</style>\n",
       "<table border=\"1\" class=\"dataframe\">\n",
       "  <thead>\n",
       "    <tr style=\"text-align: right;\">\n",
       "      <th></th>\n",
       "      <th>bookID</th>\n",
       "      <th>title</th>\n",
       "      <th>authors</th>\n",
       "      <th>average_rating</th>\n",
       "      <th>isbn</th>\n",
       "      <th>isbn13</th>\n",
       "      <th>language_code</th>\n",
       "      <th>num_pages</th>\n",
       "      <th>ratings_count</th>\n",
       "      <th>text_reviews_count</th>\n",
       "      <th>publication_date</th>\n",
       "      <th>publisher</th>\n",
       "    </tr>\n",
       "  </thead>\n",
       "  <tbody>\n",
       "    <tr>\n",
       "      <th>8177</th>\n",
       "      <td>31373</td>\n",
       "      <td>In Pursuit of the Proper Sinner (Inspector Lyn...</td>\n",
       "      <td>Elizabeth  George</td>\n",
       "      <td>4.10</td>\n",
       "      <td>0553575104</td>\n",
       "      <td>9780553575101</td>\n",
       "      <td>eng</td>\n",
       "      <td>718</td>\n",
       "      <td>10608</td>\n",
       "      <td>295</td>\n",
       "      <td>NaT</td>\n",
       "      <td>Bantam Books</td>\n",
       "    </tr>\n",
       "    <tr>\n",
       "      <th>11094</th>\n",
       "      <td>45531</td>\n",
       "      <td>Montaillou  village occitan de 1294 à 1324</td>\n",
       "      <td>Emmanuel Le Roy Ladurie/Emmanuel Le Roy-Ladurie</td>\n",
       "      <td>3.96</td>\n",
       "      <td>2070323285</td>\n",
       "      <td>9782070323289</td>\n",
       "      <td>fre</td>\n",
       "      <td>640</td>\n",
       "      <td>15</td>\n",
       "      <td>2</td>\n",
       "      <td>NaT</td>\n",
       "      <td>Folio histoire</td>\n",
       "    </tr>\n",
       "  </tbody>\n",
       "</table>\n",
       "</div>"
      ],
      "text/plain": [
       "       bookID                                              title  \\\n",
       "8177    31373  In Pursuit of the Proper Sinner (Inspector Lyn...   \n",
       "11094   45531         Montaillou  village occitan de 1294 à 1324   \n",
       "\n",
       "                                               authors  average_rating  \\\n",
       "8177                                 Elizabeth  George            4.10   \n",
       "11094  Emmanuel Le Roy Ladurie/Emmanuel Le Roy-Ladurie            3.96   \n",
       "\n",
       "             isbn         isbn13 language_code    num_pages  ratings_count  \\\n",
       "8177   0553575104  9780553575101           eng          718          10608   \n",
       "11094  2070323285  9782070323289           fre          640             15   \n",
       "\n",
       "       text_reviews_count publication_date       publisher  \n",
       "8177                  295              NaT    Bantam Books  \n",
       "11094                   2              NaT  Folio histoire  "
      ]
     },
     "execution_count": 8,
     "metadata": {},
     "output_type": "execute_result"
    }
   ],
   "source": [
    "df['publication_date'] = pd.to_datetime(df['publication_date'], format='%m/%d/%Y', errors='coerce') # Convert data type of publication_date from object into date type\n",
    "df[df['publication_date'].isnull()]"
   ]
  },
  {
   "cell_type": "code",
   "execution_count": 9,
   "id": "d7abfaad",
   "metadata": {},
   "outputs": [],
   "source": [
    "df.loc[df.bookID == 31373, 'publication_date'] = '1999-10-01 00:00:00'\n",
    "df.loc[df.bookID == 45531, 'publication_date'] = '1975-10-01 00:00:00'"
   ]
  },
  {
   "cell_type": "code",
   "execution_count": 10,
   "id": "5c2dfe50",
   "metadata": {},
   "outputs": [],
   "source": [
    "df['year'] = pd.DatetimeIndex(df['publication_date']).year # Extract year of publication in a separate column"
   ]
  },
  {
   "cell_type": "code",
   "execution_count": 11,
   "id": "0a9a6051",
   "metadata": {},
   "outputs": [],
   "source": [
    "df.rename(columns = {'  num_pages': 'num_pages'}, inplace=True) # Rename the column to remove leading whitespaces"
   ]
  },
  {
   "cell_type": "code",
   "execution_count": 12,
   "id": "8ad5b203",
   "metadata": {},
   "outputs": [
    {
     "data": {
      "text/plain": [
       "eng      8908\n",
       "en-us    1408\n",
       "spa       218\n",
       "en-gb     214\n",
       "fre       144\n",
       "ger        99\n",
       "jpn        46\n",
       "mul        19\n",
       "zho        14\n",
       "grc        11\n",
       "por        10\n",
       "en-ca       7\n",
       "ita         5\n",
       "enm         3\n",
       "lat         3\n",
       "swe         2\n",
       "rus         2\n",
       "srp         1\n",
       "nl          1\n",
       "msa         1\n",
       "glg         1\n",
       "wel         1\n",
       "ara         1\n",
       "nor         1\n",
       "tur         1\n",
       "gla         1\n",
       "ale         1\n",
       "Name: language_code, dtype: int64"
      ]
     },
     "execution_count": 12,
     "metadata": {},
     "output_type": "execute_result"
    }
   ],
   "source": [
    "#Check the language codes\n",
    "df['language_code']=df['language_code'].str.lower()\n",
    "df.language_code.unique()\n",
    "df.language_code.value_counts()"
   ]
  },
  {
   "cell_type": "code",
   "execution_count": 13,
   "id": "3c8251b5",
   "metadata": {},
   "outputs": [
    {
     "data": {
      "image/png": "[encoded data removed]",
      "text/plain": [
       "<Figure size 640x480 with 1 Axes>"
      ]
     },
     "metadata": {},
     "output_type": "display_data"
    }
   ],
   "source": [
    "#Bar graphs\n",
    "df.average_rating.hist()\n",
    "plt.title(\"Book Ratings to Number of Books\")\n",
    "plt.xlabel(\"Ratings\")\n",
    "plt.ylabel(\"Number of Books\")\n",
    "plt.show()"
   ]
  },
  {
   "cell_type": "code",
   "execution_count": 14,
   "id": "c7a3bd03",
   "metadata": {},
   "outputs": [
    {
     "data": {
      "image/png": "[encoded data removed]",
      "text/plain": [
       "<Figure size 640x480 with 1 Axes>"
      ]
     },
     "metadata": {},
     "output_type": "display_data"
    }
   ],
   "source": [
    "df.year.hist()\n",
    "plt.xlabel(\"Years\")\n",
    "plt.ylabel(\"Number of books\")\n",
    "plt.show()"
   ]
  },
  {
   "cell_type": "code",
   "execution_count": 15,
   "id": "03739012",
   "metadata": {},
   "outputs": [
    {
     "data": {
      "image/png": "[encoded data removed]",
      "text/plain": [
       "<Figure size 640x480 with 1 Axes>"
      ]
     },
     "metadata": {},
     "output_type": "display_data"
    }
   ],
   "source": [
    "#Box plots\n",
    "df.boxplot(column='num_pages')\n",
    "plt.show()"
   ]
  },
  {
   "cell_type": "code",
   "execution_count": 16,
   "id": "bee14ac9",
   "metadata": {},
   "outputs": [],
   "source": [
    "#remove the outliers\n",
    "df=df.drop(df.index[df['num_pages'] >=1000])"
   ]
  },
  {
   "cell_type": "code",
   "execution_count": 17,
   "id": "28fd6da1",
   "metadata": {},
   "outputs": [
    {
     "name": "stderr",
     "output_type": "stream",
     "text": [
      "C:\\Users\\aritr\\AppData\\Local\\Temp\\ipykernel_23472\\1134722465.py:1: FutureWarning: The default value of numeric_only in DataFrame.corr is deprecated. In a future version, it will default to False. Select only valid columns or specify the value of numeric_only to silence this warning.\n",
      "  df.corr()\n"
     ]
    },
    {
     "data": {
      "text/html": [
       "<div>\n",
       "<style scoped>\n",
       "    .dataframe tbody tr th:only-of-type {\n",
       "        vertical-align: middle;\n",
       "    }\n",
       "\n",
       "    .dataframe tbody tr th {\n",
       "        vertical-align: top;\n",
       "    }\n",
       "\n",
       "    .dataframe thead th {\n",
       "        text-align: right;\n",
       "    }\n",
       "</style>\n",
       "<table border=\"1\" class=\"dataframe\">\n",
       "  <thead>\n",
       "    <tr style=\"text-align: right;\">\n",
       "      <th></th>\n",
       "      <th>bookID</th>\n",
       "      <th>average_rating</th>\n",
       "      <th>isbn13</th>\n",
       "      <th>num_pages</th>\n",
       "      <th>ratings_count</th>\n",
       "      <th>text_reviews_count</th>\n",
       "      <th>year</th>\n",
       "    </tr>\n",
       "  </thead>\n",
       "  <tbody>\n",
       "    <tr>\n",
       "      <th>bookID</th>\n",
       "      <td>1.000000</td>\n",
       "      <td>-0.031375</td>\n",
       "      <td>-0.002051</td>\n",
       "      <td>-0.012141</td>\n",
       "      <td>-0.076384</td>\n",
       "      <td>-0.080472</td>\n",
       "      <td>0.026328</td>\n",
       "    </tr>\n",
       "    <tr>\n",
       "      <th>average_rating</th>\n",
       "      <td>-0.031375</td>\n",
       "      <td>1.000000</td>\n",
       "      <td>0.000291</td>\n",
       "      <td>0.102496</td>\n",
       "      <td>0.038961</td>\n",
       "      <td>0.035334</td>\n",
       "      <td>-0.029612</td>\n",
       "    </tr>\n",
       "    <tr>\n",
       "      <th>isbn13</th>\n",
       "      <td>-0.002051</td>\n",
       "      <td>0.000291</td>\n",
       "      <td>1.000000</td>\n",
       "      <td>0.008458</td>\n",
       "      <td>0.006942</td>\n",
       "      <td>0.008911</td>\n",
       "      <td>0.000157</td>\n",
       "    </tr>\n",
       "    <tr>\n",
       "      <th>num_pages</th>\n",
       "      <td>-0.012141</td>\n",
       "      <td>0.102496</td>\n",
       "      <td>0.008458</td>\n",
       "      <td>1.000000</td>\n",
       "      <td>0.046999</td>\n",
       "      <td>0.054281</td>\n",
       "      <td>-0.001673</td>\n",
       "    </tr>\n",
       "    <tr>\n",
       "      <th>ratings_count</th>\n",
       "      <td>-0.076384</td>\n",
       "      <td>0.038961</td>\n",
       "      <td>0.006942</td>\n",
       "      <td>0.046999</td>\n",
       "      <td>1.000000</td>\n",
       "      <td>0.865418</td>\n",
       "      <td>0.044666</td>\n",
       "    </tr>\n",
       "    <tr>\n",
       "      <th>text_reviews_count</th>\n",
       "      <td>-0.080472</td>\n",
       "      <td>0.035334</td>\n",
       "      <td>0.008911</td>\n",
       "      <td>0.054281</td>\n",
       "      <td>0.865418</td>\n",
       "      <td>1.000000</td>\n",
       "      <td>0.067175</td>\n",
       "    </tr>\n",
       "    <tr>\n",
       "      <th>year</th>\n",
       "      <td>0.026328</td>\n",
       "      <td>-0.029612</td>\n",
       "      <td>0.000157</td>\n",
       "      <td>-0.001673</td>\n",
       "      <td>0.044666</td>\n",
       "      <td>0.067175</td>\n",
       "      <td>1.000000</td>\n",
       "    </tr>\n",
       "  </tbody>\n",
       "</table>\n",
       "</div>"
      ],
      "text/plain": [
       "                      bookID  average_rating    isbn13  num_pages  \\\n",
       "bookID              1.000000       -0.031375 -0.002051  -0.012141   \n",
       "average_rating     -0.031375        1.000000  0.000291   0.102496   \n",
       "isbn13             -0.002051        0.000291  1.000000   0.008458   \n",
       "num_pages          -0.012141        0.102496  0.008458   1.000000   \n",
       "ratings_count      -0.076384        0.038961  0.006942   0.046999   \n",
       "text_reviews_count -0.080472        0.035334  0.008911   0.054281   \n",
       "year                0.026328       -0.029612  0.000157  -0.001673   \n",
       "\n",
       "                    ratings_count  text_reviews_count      year  \n",
       "bookID                  -0.076384           -0.080472  0.026328  \n",
       "average_rating           0.038961            0.035334 -0.029612  \n",
       "isbn13                   0.006942            0.008911  0.000157  \n",
       "num_pages                0.046999            0.054281 -0.001673  \n",
       "ratings_count            1.000000            0.865418  0.044666  \n",
       "text_reviews_count       0.865418            1.000000  0.067175  \n",
       "year                     0.044666            0.067175  1.000000  "
      ]
     },
     "execution_count": 17,
     "metadata": {},
     "output_type": "execute_result"
    }
   ],
   "source": [
    "df.corr()"
   ]
  },
  {
   "cell_type": "code",
   "execution_count": 18,
   "id": "e9deb71c",
   "metadata": {},
   "outputs": [
    {
     "name": "stderr",
     "output_type": "stream",
     "text": [
      "C:\\Users\\aritr\\AppData\\Local\\Temp\\ipykernel_23472\\89716819.py:3: FutureWarning: The default value of numeric_only in DataFrame.corr is deprecated. In a future version, it will default to False. Select only valid columns or specify the value of numeric_only to silence this warning.\n",
      "  corr = df.corr()\n"
     ]
    },
    {
     "data": {
      "text/plain": [
       "<Axes: >"
      ]
     },
     "execution_count": 18,
     "metadata": {},
     "output_type": "execute_result"
    },
    {
     "data": {
      "image/png": "[encoded data removed]",
      "text/plain": [
       "<Figure size 2500x1000 with 2 Axes>"
      ]
     },
     "metadata": {},
     "output_type": "display_data"
    }
   ],
   "source": [
    "fig = plt.gcf()\n",
    "fig.set_size_inches(25, 10)\n",
    "corr = df.corr()\n",
    "sns.heatmap(corr, mask=np.zeros_like(corr, dtype=bool), cmap=sns.diverging_palette(220, 10, as_cmap=True),\n",
    "            square=True)"
   ]
  },
  {
   "cell_type": "code",
   "execution_count": 19,
   "id": "8cdd3d87",
   "metadata": {},
   "outputs": [
    {
     "data": {
      "image/png": "[encoded data removed]",
      "text/plain": [
       "<Figure size 1000x500 with 1 Axes>"
      ]
     },
     "metadata": {},
     "output_type": "display_data"
    }
   ],
   "source": [
    "#Categorical columns\n",
    "#Pie chart\n",
    "fig, (ax1) = plt.subplots(ncols=1, figsize=(10, 5))\n",
    "df.language_code.value_counts().head(5).plot(kind='pie',label='', autopct='%.2f', ax=ax1, ).legend()\n",
    "ax1.set_xlabel('% of languages', size=12)\n",
    "plt.show()"
   ]
  },
  {
   "cell_type": "code",
   "execution_count": 20,
   "id": "7c84e644",
   "metadata": {},
   "outputs": [
    {
     "data": {
      "text/html": [
       "<div>\n",
       "<style scoped>\n",
       "    .dataframe tbody tr th:only-of-type {\n",
       "        vertical-align: middle;\n",
       "    }\n",
       "\n",
       "    .dataframe tbody tr th {\n",
       "        vertical-align: top;\n",
       "    }\n",
       "\n",
       "    .dataframe thead th {\n",
       "        text-align: right;\n",
       "    }\n",
       "</style>\n",
       "<table border=\"1\" class=\"dataframe\">\n",
       "  <thead>\n",
       "    <tr style=\"text-align: right;\">\n",
       "      <th></th>\n",
       "      <th>average_rating</th>\n",
       "    </tr>\n",
       "    <tr>\n",
       "      <th>language_code</th>\n",
       "      <th></th>\n",
       "    </tr>\n",
       "  </thead>\n",
       "  <tbody>\n",
       "    <tr>\n",
       "      <th>wel</th>\n",
       "      <td>5.000000</td>\n",
       "    </tr>\n",
       "    <tr>\n",
       "      <th>gla</th>\n",
       "      <td>4.470000</td>\n",
       "    </tr>\n",
       "    <tr>\n",
       "      <th>zho</th>\n",
       "      <td>4.456429</td>\n",
       "    </tr>\n",
       "    <tr>\n",
       "      <th>tur</th>\n",
       "      <td>4.420000</td>\n",
       "    </tr>\n",
       "    <tr>\n",
       "      <th>ale</th>\n",
       "      <td>4.360000</td>\n",
       "    </tr>\n",
       "    <tr>\n",
       "      <th>lat</th>\n",
       "      <td>4.353333</td>\n",
       "    </tr>\n",
       "    <tr>\n",
       "      <th>jpn</th>\n",
       "      <td>4.268696</td>\n",
       "    </tr>\n",
       "    <tr>\n",
       "      <th>rus</th>\n",
       "      <td>4.255000</td>\n",
       "    </tr>\n",
       "    <tr>\n",
       "      <th>nl</th>\n",
       "      <td>4.180000</td>\n",
       "    </tr>\n",
       "    <tr>\n",
       "      <th>mul</th>\n",
       "      <td>4.126316</td>\n",
       "    </tr>\n",
       "  </tbody>\n",
       "</table>\n",
       "</div>"
      ],
      "text/plain": [
       "               average_rating\n",
       "language_code                \n",
       "wel                  5.000000\n",
       "gla                  4.470000\n",
       "zho                  4.456429\n",
       "tur                  4.420000\n",
       "ale                  4.360000\n",
       "lat                  4.353333\n",
       "jpn                  4.268696\n",
       "rus                  4.255000\n",
       "nl                   4.180000\n",
       "mul                  4.126316"
      ]
     },
     "execution_count": 20,
     "metadata": {},
     "output_type": "execute_result"
    }
   ],
   "source": [
    "#Pivot tables\n",
    "pd.pivot_table(df, index= 'language_code', values='average_rating').sort_values(by='average_rating',ascending=False).head(10)"
   ]
  },
  {
   "cell_type": "code",
   "execution_count": 21,
   "id": "5cf5888c",
   "metadata": {},
   "outputs": [
    {
     "data": {
      "image/png": "[encoded data removed]",
      "text/plain": [
       "<Figure size 640x480 with 1 Axes>"
      ]
     },
     "metadata": {},
     "output_type": "display_data"
    }
   ],
   "source": [
    "#barplots\n",
    "chart = sns.barplot(x=df.authors.value_counts().head(10).index, y=df.authors.value_counts().head(10))\n",
    "chart.set_xticklabels(chart.get_xticklabels(), rotation=90)\n",
    "plt.xlabel(\"Authors\")\n",
    "plt.ylabel(\"Number of books\")\n",
    "plt.show()"
   ]
  },
  {
   "cell_type": "code",
   "execution_count": 22,
   "id": "3d9b031b",
   "metadata": {},
   "outputs": [
    {
     "data": {
      "text/html": [
       "<div>\n",
       "<style scoped>\n",
       "    .dataframe tbody tr th:only-of-type {\n",
       "        vertical-align: middle;\n",
       "    }\n",
       "\n",
       "    .dataframe tbody tr th {\n",
       "        vertical-align: top;\n",
       "    }\n",
       "\n",
       "    .dataframe thead th {\n",
       "        text-align: right;\n",
       "    }\n",
       "</style>\n",
       "<table border=\"1\" class=\"dataframe\">\n",
       "  <thead>\n",
       "    <tr style=\"text-align: right;\">\n",
       "      <th></th>\n",
       "      <th>bookID</th>\n",
       "      <th>title</th>\n",
       "      <th>authors</th>\n",
       "      <th>average_rating</th>\n",
       "      <th>isbn</th>\n",
       "      <th>isbn13</th>\n",
       "      <th>language_code</th>\n",
       "      <th>num_pages</th>\n",
       "      <th>ratings_count</th>\n",
       "      <th>text_reviews_count</th>\n",
       "      <th>publication_date</th>\n",
       "      <th>publisher</th>\n",
       "      <th>year</th>\n",
       "    </tr>\n",
       "  </thead>\n",
       "  <tbody>\n",
       "    <tr>\n",
       "      <th>9195</th>\n",
       "      <td>35963</td>\n",
       "      <td>The Opposite of Fate</td>\n",
       "      <td>Amy Tan</td>\n",
       "      <td>3.92</td>\n",
       "      <td>0007170408</td>\n",
       "      <td>9780007170401</td>\n",
       "      <td>eng</td>\n",
       "      <td>398</td>\n",
       "      <td>172</td>\n",
       "      <td>11</td>\n",
       "      <td>2004-07-01</td>\n",
       "      <td>Harper Perennial</td>\n",
       "      <td>2004</td>\n",
       "    </tr>\n",
       "  </tbody>\n",
       "</table>\n",
       "</div>"
      ],
      "text/plain": [
       "      bookID                 title  authors  average_rating        isbn  \\\n",
       "9195   35963  The Opposite of Fate  Amy Tan            3.92  0007170408   \n",
       "\n",
       "             isbn13 language_code  num_pages  ratings_count  \\\n",
       "9195  9780007170401           eng        398            172   \n",
       "\n",
       "      text_reviews_count publication_date         publisher  year  \n",
       "9195                  11       2004-07-01  Harper Perennial  2004  "
      ]
     },
     "execution_count": 22,
     "metadata": {},
     "output_type": "execute_result"
    }
   ],
   "source": [
    "df.sample()"
   ]
  },
  {
   "cell_type": "code",
   "execution_count": 23,
   "id": "0def1243",
   "metadata": {},
   "outputs": [],
   "source": [
    "#choose relavant columns\n",
    "df_model = df[['title', 'authors', 'average_rating', 'language_code',\n",
    "       'num_pages', 'ratings_count', 'text_reviews_count', 'publisher',\n",
    "       'year']]"
   ]
  },
  {
   "cell_type": "code",
   "execution_count": 24,
   "id": "cbfe690f",
   "metadata": {},
   "outputs": [
    {
     "name": "stderr",
     "output_type": "stream",
     "text": [
      "C:\\Users\\aritr\\AppData\\Local\\Temp\\ipykernel_23472\\2150727301.py:6: SettingWithCopyWarning: \n",
      "A value is trying to be set on a copy of a slice from a DataFrame.\n",
      "Try using .loc[row_indexer,col_indexer] = value instead\n",
      "\n",
      "See the caveats in the documentation: https://pandas.pydata.org/pandas-docs/stable/user_guide/indexing.html#returning-a-view-versus-a-copy\n",
      "  df_model.replace(encoding, inplace=True)\n",
      "C:\\Users\\aritr\\AppData\\Local\\Temp\\ipykernel_23472\\2150727301.py:10: SettingWithCopyWarning: \n",
      "A value is trying to be set on a copy of a slice from a DataFrame.\n",
      "Try using .loc[row_indexer,col_indexer] = value instead\n",
      "\n",
      "See the caveats in the documentation: https://pandas.pydata.org/pandas-docs/stable/user_guide/indexing.html#returning-a-view-versus-a-copy\n",
      "  df_model[['language_code']] = enc.fit_transform(df_model[['language_code']]) # Apply ordinal encoding on language_code to convert it into numerical column\n"
     ]
    }
   ],
   "source": [
    "#feature engineering\n",
    "#encode categorical variables\n",
    "from sklearn.preprocessing import OrdinalEncoder\n",
    "\n",
    "encoding = {'language_code':{'en-US': 'eng', 'en-GB': 'eng', 'en-CA': 'eng'}} # Unify the langauge codes\n",
    "df_model.replace(encoding, inplace=True)\n",
    "\n",
    "enc = OrdinalEncoder()\n",
    "enc.fit(df_model[['language_code']])\n",
    "df_model[['language_code']] = enc.fit_transform(df_model[['language_code']]) # Apply ordinal encoding on language_code to convert it into numerical column"
   ]
  },
  {
   "cell_type": "code",
   "execution_count": 25,
   "id": "cc424f8e",
   "metadata": {},
   "outputs": [
    {
     "name": "stderr",
     "output_type": "stream",
     "text": [
      "C:\\Users\\aritr\\AppData\\Local\\Temp\\ipykernel_23472\\1568163244.py:4: SettingWithCopyWarning: \n",
      "A value is trying to be set on a copy of a slice from a DataFrame.\n",
      "Try using .loc[row_indexer,col_indexer] = value instead\n",
      "\n",
      "See the caveats in the documentation: https://pandas.pydata.org/pandas-docs/stable/user_guide/indexing.html#returning-a-view-versus-a-copy\n",
      "  df_model['title'] = le.fit_transform(df_model['title'])\n",
      "C:\\Users\\aritr\\AppData\\Local\\Temp\\ipykernel_23472\\1568163244.py:5: SettingWithCopyWarning: \n",
      "A value is trying to be set on a copy of a slice from a DataFrame.\n",
      "Try using .loc[row_indexer,col_indexer] = value instead\n",
      "\n",
      "See the caveats in the documentation: https://pandas.pydata.org/pandas-docs/stable/user_guide/indexing.html#returning-a-view-versus-a-copy\n",
      "  df_model['authors'] = le.fit_transform(df_model['authors'])\n",
      "C:\\Users\\aritr\\AppData\\Local\\Temp\\ipykernel_23472\\1568163244.py:6: SettingWithCopyWarning: \n",
      "A value is trying to be set on a copy of a slice from a DataFrame.\n",
      "Try using .loc[row_indexer,col_indexer] = value instead\n",
      "\n",
      "See the caveats in the documentation: https://pandas.pydata.org/pandas-docs/stable/user_guide/indexing.html#returning-a-view-versus-a-copy\n",
      "  df_model['publisher'] = le.fit_transform(df_model['publisher'])\n"
     ]
    }
   ],
   "source": [
    "#feature engineering\n",
    "#encode categorical variables (title, authors, publisher)\n",
    "le = preprocessing.LabelEncoder()\n",
    "df_model['title'] = le.fit_transform(df_model['title'])\n",
    "df_model['authors'] = le.fit_transform(df_model['authors'])\n",
    "df_model['publisher'] = le.fit_transform(df_model['publisher'])"
   ]
  },
  {
   "cell_type": "code",
   "execution_count": 26,
   "id": "c6a5180b",
   "metadata": {},
   "outputs": [
    {
     "data": {
      "text/html": [
       "<div>\n",
       "<style scoped>\n",
       "    .dataframe tbody tr th:only-of-type {\n",
       "        vertical-align: middle;\n",
       "    }\n",
       "\n",
       "    .dataframe tbody tr th {\n",
       "        vertical-align: top;\n",
       "    }\n",
       "\n",
       "    .dataframe thead th {\n",
       "        text-align: right;\n",
       "    }\n",
       "</style>\n",
       "<table border=\"1\" class=\"dataframe\">\n",
       "  <thead>\n",
       "    <tr style=\"text-align: right;\">\n",
       "      <th></th>\n",
       "      <th>title</th>\n",
       "      <th>authors</th>\n",
       "      <th>average_rating</th>\n",
       "      <th>language_code</th>\n",
       "      <th>num_pages</th>\n",
       "      <th>ratings_count</th>\n",
       "      <th>text_reviews_count</th>\n",
       "      <th>publisher</th>\n",
       "      <th>year</th>\n",
       "    </tr>\n",
       "  </thead>\n",
       "  <tbody>\n",
       "    <tr>\n",
       "      <th>6475</th>\n",
       "      <td>4190</td>\n",
       "      <td>5843</td>\n",
       "      <td>3.73</td>\n",
       "      <td>5.0</td>\n",
       "      <td>242</td>\n",
       "      <td>162</td>\n",
       "      <td>21</td>\n",
       "      <td>889</td>\n",
       "      <td>1993</td>\n",
       "    </tr>\n",
       "  </tbody>\n",
       "</table>\n",
       "</div>"
      ],
      "text/plain": [
       "      title  authors  average_rating  language_code  num_pages  ratings_count  \\\n",
       "6475   4190     5843            3.73            5.0        242            162   \n",
       "\n",
       "      text_reviews_count  publisher  year  \n",
       "6475                  21        889  1993  "
      ]
     },
     "execution_count": 26,
     "metadata": {},
     "output_type": "execute_result"
    }
   ],
   "source": [
    "df_model.sample()\n"
   ]
  },
  {
   "cell_type": "code",
   "execution_count": 27,
   "id": "8cefa175",
   "metadata": {},
   "outputs": [],
   "source": [
    "#train test split\n",
    "X = df_model.drop(['average_rating'], axis = 1)\n",
    "y = df_model['average_rating'].values\n",
    "\n",
    "X_train, X_test, y_train, y_test = train_test_split(X, y, test_size = 0.20, random_state = 42)"
   ]
  },
  {
   "cell_type": "code",
   "execution_count": 28,
   "id": "51f8a729",
   "metadata": {},
   "outputs": [],
   "source": [
    "#Linear regression model\n",
    "lr=LinearRegression()\n",
    "lr.fit(X_train, y_train)\n",
    "y_train_pred_lr = lr.predict(X_train)\n",
    "y_test_pred_lr = lr.predict(X_test)"
   ]
  },
  {
   "cell_type": "code",
   "execution_count": 29,
   "id": "4dc4bc75",
   "metadata": {},
   "outputs": [
    {
     "data": {
      "text/plain": [
       "Text(0, 0.5, 'Average Ratings')"
      ]
     },
     "execution_count": 29,
     "metadata": {},
     "output_type": "execute_result"
    },
    {
     "data": {
      "image/png": "[encoded data removed]",
      "text/plain": [
       "<Figure size 1000x800 with 1 Axes>"
      ]
     },
     "metadata": {},
     "output_type": "display_data"
    }
   ],
   "source": [
    "#Barchart\n",
    "pred = pd.DataFrame({'Actual': y_test.tolist(), 'Predicted': y_test_pred_lr.tolist()}).head(10)\n",
    "pred.head(10)\n",
    "pred.plot(kind='bar', figsize=(10, 8))\n",
    "plt.title('Linear Regression model with predicted and real values')\n",
    "plt.xlabel('Number of examples')\n",
    "plt.ylabel('Average Ratings')"
   ]
  },
  {
   "cell_type": "code",
   "execution_count": 30,
   "id": "01cfcfa7",
   "metadata": {
    "scrolled": false
   },
   "outputs": [
    {
     "name": "stdout",
     "output_type": "stream",
     "text": [
      "MSE in Linear Regression train: 0.126, test: 0.099\n",
      "R^2 in Linear Regression train: 0.016, test: 0.003\n",
      "MAE in Linear Regression train: 0.231, test: 0.225\n",
      "RMSE in Linear Regression train: 0.355, test: 0.314\n"
     ]
    }
   ],
   "source": [
    "#Model Performance Evaluation\n",
    "\n",
    "print('MSE in Linear Regression train: %.3f, test: %.3f' % (\n",
    "        mean_squared_error(y_train, y_train_pred_lr),\n",
    "        mean_squared_error(y_test, y_test_pred_lr)))\n",
    "print('R^2 in Linear Regression train: %.3f, test: %.3f' % (\n",
    "        r2_score(y_train, y_train_pred_lr),\n",
    "        r2_score(y_test, y_test_pred_lr)))\n",
    "print('MAE in Linear Regression train: %.3f, test: %.3f' % (\n",
    "        mean_absolute_error(y_train, y_train_pred_lr),\n",
    "        mean_absolute_error(y_test, y_test_pred_lr)))\n",
    "print('RMSE in Linear Regression train: %.3f, test: %.3f' % (\n",
    "        np.sqrt(metrics.mean_squared_error(y_train, y_train_pred_lr)),\n",
    "        np.sqrt(metrics.mean_squared_error(y_test, y_test_pred_lr))))"
   ]
  },
  {
   "cell_type": "code",
   "execution_count": 31,
   "id": "9d2848a8",
   "metadata": {},
   "outputs": [],
   "source": [
    "#Random forest\n",
    "forest = RandomForestRegressor(n_estimators=1000, \n",
    "                               criterion='squared_error', \n",
    "                               random_state=1, \n",
    "                               n_jobs=-1)\n",
    "forest.fit(X_train, y_train)\n",
    "y_train_pred_rf = forest.predict(X_train)\n",
    "y_test_pred_rf = forest.predict(X_test)"
   ]
  },
  {
   "cell_type": "code",
   "execution_count": 32,
   "id": "b11bda5b",
   "metadata": {},
   "outputs": [
    {
     "data": {
      "text/plain": [
       "Text(0, 0.5, 'Average Ratings')"
      ]
     },
     "execution_count": 32,
     "metadata": {},
     "output_type": "execute_result"
    },
    {
     "data": {
      "image/png": "[encoded data removed]",
      "text/plain": [
       "<Figure size 1000x800 with 1 Axes>"
      ]
     },
     "metadata": {},
     "output_type": "display_data"
    }
   ],
   "source": [
    "#Bar chat\n",
    "pred1 = pd.DataFrame({'Actual': y_test.tolist(), 'Predicted': y_test_pred_rf.tolist()}).head(10)\n",
    "pred1.head(10)\n",
    "pred1.plot(kind='bar', figsize=(10, 8))\n",
    "plt.title('Random Forest model with predicted and real values')\n",
    "plt.xlabel('Number of examples')\n",
    "plt.ylabel('Average Ratings')"
   ]
  },
  {
   "cell_type": "code",
   "execution_count": 33,
   "id": "bed065d9",
   "metadata": {},
   "outputs": [
    {
     "name": "stdout",
     "output_type": "stream",
     "text": [
      "MSE in Random Forest train: 0.014, test: 0.102\n",
      "R^2 in Random Forest train: 0.888, test: -0.035\n",
      "MAE in Random Forest train: 0.079, test: 0.213\n",
      "RMSE in Random Forest train: 0.120, test: 0.320\n"
     ]
    }
   ],
   "source": [
    "#Model Performance Evaluation\n",
    "\n",
    "print('MSE in Random Forest train: %.3f, test: %.3f' % (\n",
    "        mean_squared_error(y_train, y_train_pred_rf),\n",
    "        mean_squared_error(y_test, y_test_pred_rf)))\n",
    "print('R^2 in Random Forest train: %.3f, test: %.3f' % (\n",
    "        r2_score(y_train, y_train_pred_rf),\n",
    "        r2_score(y_test, y_test_pred_rf)))\n",
    "print('MAE in Random Forest train: %.3f, test: %.3f' % (\n",
    "        mean_absolute_error(y_train, y_train_pred_rf),\n",
    "        mean_absolute_error(y_test, y_test_pred_rf)))\n",
    "print('RMSE in Random Forest train: %.3f, test: %.3f' % (\n",
    "        np.sqrt(metrics.mean_squared_error(y_train, y_train_pred_rf)),\n",
    "        np.sqrt(metrics.mean_squared_error(y_test, y_test_pred_rf))))"
   ]
  },
  {
   "cell_type": "code",
   "execution_count": null,
   "id": "1c624301",
   "metadata": {},
   "outputs": [],
   "source": []
  },
  {
   "cell_type": "code",
   "execution_count": null,
   "id": "bac82fc9",
   "metadata": {},
   "outputs": [],
   "source": []
  }
 ],
 "metadata": {
  "kernelspec": {
   "display_name": "Python 3 (ipykernel)",
   "language": "python",
   "name": "python3"
  },
  "language_info": {
   "codemirror_mode": {
    "name": "ipython",
    "version": 3
   },
   "file_extension": ".py",
   "mimetype": "text/x-python",
   "name": "python",
   "nbconvert_exporter": "python",
   "pygments_lexer": "ipython3",
   "version": "3.10.10"
  }
 },
 "nbformat": 4,
 "nbformat_minor": 5
}
